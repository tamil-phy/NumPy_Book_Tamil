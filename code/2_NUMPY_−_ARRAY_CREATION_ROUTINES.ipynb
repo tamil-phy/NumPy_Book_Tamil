{
  "nbformat": 4,
  "nbformat_minor": 0,
  "metadata": {
    "colab": {
      "provenance": []
    },
    "kernelspec": {
      "name": "python3",
      "display_name": "Python 3"
    },
    "language_info": {
      "name": "python"
    }
  },
  "cells": [
    {
      "cell_type": "markdown",
      "source": [
        "# 2. NUMPY − ARRAY CREATION ROUTINES\n",
        "\n",
        "Numpy-ல் பல்வேறு array உருவாக்கும் முறைகள் உள்ளன. அவற்றில் சில பொதுவாகப் பயன்படுத்தப்படும் functions பற்றி பார்க்கலாம்.\n",
        "\n",
        "#### 2.1. numpy.empty\n",
        "\n",
        "**empty()** function ஒரு initialization values இல்லாத array-ஐ உருவாக்கும்."
      ],
      "metadata": {
        "id": "ac8ZM5qy1JY-"
      }
    },
    {
      "cell_type": "code",
      "source": [
        "import numpy as np"
      ],
      "metadata": {
        "id": "wdtYRoqn1jl-"
      },
      "execution_count": 2,
      "outputs": []
    },
    {
      "cell_type": "code",
      "execution_count": 4,
      "metadata": {
        "colab": {
          "base_uri": "https://localhost:8080/"
        },
        "id": "Fq4_yQzM0ozk",
        "outputId": "f2908eda-31ac-4c54-a228-772c7b959626"
      },
      "outputs": [
        {
          "output_type": "stream",
          "name": "stdout",
          "text": [
            "Empty array:\n",
            " [[4.66651921e-310 0.00000000e+000 2.05833592e-312]\n",
            " [6.79038654e-313 2.14321575e-312 2.27053550e-312]]\n"
          ]
        }
      ],
      "source": [
        "empty_array = np.empty((2, 3))\n",
        "print(\"Empty array:\\n\", empty_array)"
      ]
    },
    {
      "cell_type": "markdown",
      "source": [
        "#### 2.2. numpy.zeros\n",
        "\n",
        "**zeros( )** function zeros களை கொண்ட array-ஐ உருவாக்கும்."
      ],
      "metadata": {
        "id": "DAp57NND3krm"
      }
    },
    {
      "cell_type": "code",
      "source": [
        "zeros_array = np.zeros((2, 2))\n",
        "print(\"Zeros array:\\n\", zeros_array)"
      ],
      "metadata": {
        "colab": {
          "base_uri": "https://localhost:8080/"
        },
        "id": "l7XkYhQu3lNU",
        "outputId": "557078f5-8cee-42fd-8822-4b066add12ce"
      },
      "execution_count": 5,
      "outputs": [
        {
          "output_type": "stream",
          "name": "stdout",
          "text": [
            "Zeros array:\n",
            " [[0. 0.]\n",
            " [0. 0.]]\n"
          ]
        }
      ]
    },
    {
      "cell_type": "markdown",
      "source": [
        "#### 2.3. numpy.ones\n",
        "\n",
        "**ones( )** function ones களை கொண்ட array-ஐ உருவாக்கும்."
      ],
      "metadata": {
        "id": "J29eNl6V3xCg"
      }
    },
    {
      "cell_type": "code",
      "source": [
        "ones_array = np.ones((3, 3))\n",
        "print(\"Ones array:\\n\", ones_array)"
      ],
      "metadata": {
        "colab": {
          "base_uri": "https://localhost:8080/"
        },
        "id": "Zzk9T2sr3xoC",
        "outputId": "786aaaaf-6f90-46f0-a67c-aee20337a01b"
      },
      "execution_count": 6,
      "outputs": [
        {
          "output_type": "stream",
          "name": "stdout",
          "text": [
            "Ones array:\n",
            " [[1. 1. 1.]\n",
            " [1. 1. 1.]\n",
            " [1. 1. 1.]]\n"
          ]
        }
      ]
    }
  ]
}