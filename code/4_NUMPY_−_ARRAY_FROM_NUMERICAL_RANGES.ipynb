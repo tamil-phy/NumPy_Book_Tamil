{
  "nbformat": 4,
  "nbformat_minor": 0,
  "metadata": {
    "colab": {
      "provenance": []
    },
    "kernelspec": {
      "name": "python3",
      "display_name": "Python 3"
    },
    "language_info": {
      "name": "python"
    }
  },
  "cells": [
    {
      "cell_type": "markdown",
      "source": [
        "Numpy-ல் **எண்கள் அடிப்படையிலான array** களை உருவாக்க பல functions இருக்கின்றன. இதன் மூலம், ஏறுவரிசையில் அல்லது குறிப்பிட்ட அளவுகளில் எண்கள் கொண்ட array-களை உருவாக்க முடியும்.\n",
        "\n",
        "#### 4.1. numpy.arange\n",
        "\n",
        "**arange( )** function ஒரு start, stop, மற்றும் step values அடிப்படையில் array-ஐ உருவாக்கும்."
      ],
      "metadata": {
        "id": "aa5TzmJbAg6f"
      }
    },
    {
      "cell_type": "code",
      "source": [
        "import numpy as np"
      ],
      "metadata": {
        "id": "yN3eUDlCAvRS"
      },
      "execution_count": 2,
      "outputs": []
    },
    {
      "cell_type": "code",
      "execution_count": 3,
      "metadata": {
        "colab": {
          "base_uri": "https://localhost:8080/"
        },
        "id": "1sh_WrvQAblM",
        "outputId": "3486670d-d2e4-4323-bfa5-1231ad9bb4aa"
      },
      "outputs": [
        {
          "output_type": "stream",
          "name": "stdout",
          "text": [
            "Array using arange: [1 3 5 7 9]\n"
          ]
        }
      ],
      "source": [
        "array_arange = np.arange(1, 10, 2)\n",
        "print(\"Array using arange:\", array_arange)"
      ]
    },
    {
      "cell_type": "markdown",
      "source": [
        "* இங்கு, **arange( )** start value-இல் இருந்து stop value வரை குறிப்பிட்ட step அளவிற்கு array values-ஐ உருவாக்குகிறது."
      ],
      "metadata": {
        "id": "fhqNpMsgA3l5"
      }
    },
    {
      "cell_type": "markdown",
      "source": [
        "#### 4.2. numpy.linspace\n",
        "\n",
        "**linspace( )** function start value மற்றும் stop value-க்கு இடையில் even spacing-ஆக values-ஐ உருவாக்கும்."
      ],
      "metadata": {
        "id": "2QdTBw-UBA7l"
      }
    },
    {
      "cell_type": "code",
      "source": [
        "array_linspace = np.linspace(0, 1, 5)\n",
        "print(\"Array using linspace:\", array_linspace)"
      ],
      "metadata": {
        "colab": {
          "base_uri": "https://localhost:8080/"
        },
        "id": "J_k4ufL7A0uy",
        "outputId": "3019e23d-52a0-4217-d63f-ee8be6ef35eb"
      },
      "execution_count": 4,
      "outputs": [
        {
          "output_type": "stream",
          "name": "stdout",
          "text": [
            "Array using linspace: [0.   0.25 0.5  0.75 1.  ]\n"
          ]
        }
      ]
    },
    {
      "cell_type": "markdown",
      "source": [
        "* **linspace( )** function start மற்றும் stop values இடையே நிகரமாக values-ஐ பிரிக்கிறது."
      ],
      "metadata": {
        "id": "NGbR6cDYBKER"
      }
    },
    {
      "cell_type": "markdown",
      "source": [
        "#### 4.3. numpy.logspace\n",
        "\n",
        "**logspace( )** function logarithmic spacing கொண்ட array values-ஐ உருவாக்கும்."
      ],
      "metadata": {
        "id": "-lNxxVH7BSir"
      }
    },
    {
      "cell_type": "code",
      "source": [
        "array_logspace = np.logspace(1, 3, 5)\n",
        "print(\"Array using logspace:\", array_logspace)"
      ],
      "metadata": {
        "colab": {
          "base_uri": "https://localhost:8080/"
        },
        "id": "m1lA5vdbBFoo",
        "outputId": "b2a6b790-20ef-45ff-8054-a9b81a388a74"
      },
      "execution_count": 5,
      "outputs": [
        {
          "output_type": "stream",
          "name": "stdout",
          "text": [
            "Array using logspace: [  10.           31.6227766   100.          316.22776602 1000.        ]\n"
          ]
        }
      ]
    },
    {
      "cell_type": "markdown",
      "source": [
        "**logspace( )** function logarithmic scale-ல் array values-ஐ உருவாக்குகிறது."
      ],
      "metadata": {
        "id": "6QiC0LcZBXbY"
      }
    }
  ]
}