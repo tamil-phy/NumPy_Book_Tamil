{
  "nbformat": 4,
  "nbformat_minor": 0,
  "metadata": {
    "colab": {
      "provenance": []
    },
    "kernelspec": {
      "name": "python3",
      "display_name": "Python 3"
    },
    "language_info": {
      "name": "python"
    }
  },
  "cells": [
    {
      "cell_type": "markdown",
      "source": [
        "Numpy-ல் array-களை உருவாக்குவதற்கான ஒரு முக்கியமான வாய்ப்பு **முந்தைய data**-விலிருந்து array-ஐ உருவாக்குவது. இதனால் நாம் ஏற்கனவே உள்ள data-ஐ Numpy array-களாக மாற்றி வேலை செய்யலாம்.\n",
        "\n",
        "#### 3.1. numpy.asarray\n",
        "\n",
        "**asarray( )** function-ஐ பயன்படுத்தி, ஒரு existing data-ஐ Numpy array-ஆக மாற்றலாம்."
      ],
      "metadata": {
        "id": "fKzrtT-e4jt5"
      }
    },
    {
      "cell_type": "code",
      "execution_count": 1,
      "metadata": {
        "id": "jfYP_xYG4Siy"
      },
      "outputs": [],
      "source": [
        "import numpy as np"
      ]
    },
    {
      "cell_type": "code",
      "source": [
        "# list data-யை numpy array-ஆக மாற்றுதல்\n",
        "list_data = [1, 2, 3, 4, 5]\n",
        "array_data = np.asarray(list_data)\n",
        "print(\"Array from list:\", array_data)"
      ],
      "metadata": {
        "colab": {
          "base_uri": "https://localhost:8080/"
        },
        "id": "rLYcoxno4pOn",
        "outputId": "7cbbdc2a-59fe-4ce4-d488-5e9d56f62146"
      },
      "execution_count": 2,
      "outputs": [
        {
          "output_type": "stream",
          "name": "stdout",
          "text": [
            "Array from list: [1 2 3 4 5]\n"
          ]
        }
      ]
    },
    {
      "cell_type": "markdown",
      "source": [
        "\n",
        "\n",
        "*  **asarray( )** function-ஐ பயன்படுத்தி Python list-ஐ Numpy array-ஆக மாற்றுகிறோம். இது data type-ஐ retain (சேமித்துக்கொள்வது) செய்து array-ஆக மாற்றும்.\n",
        "\n"
      ],
      "metadata": {
        "id": "za6Pput9-tNB"
      }
    },
    {
      "cell_type": "markdown",
      "source": [
        "#### 3.2. numpy.frombuffer\n",
        "\n",
        "**frombuffer( )** method-ஐ பயன்படுத்தி buffer-ல் உள்ள data-ஐ array-ஆக மாற்ற முடியும்."
      ],
      "metadata": {
        "id": "SFMtYr5o-9w0"
      }
    },
    {
      "cell_type": "code",
      "source": [
        "buffer = b'Hello World'\n",
        "array_buffer = np.frombuffer(buffer, dtype='S1')\n",
        "print(\"Array from buffer:\", array_buffer)"
      ],
      "metadata": {
        "colab": {
          "base_uri": "https://localhost:8080/"
        },
        "id": "EhNp6_Wd-z-M",
        "outputId": "73e8c2ea-cc27-43e6-f66a-58ab6f376300"
      },
      "execution_count": 3,
      "outputs": [
        {
          "output_type": "stream",
          "name": "stdout",
          "text": [
            "Array from buffer: [b'H' b'e' b'l' b'l' b'o' b' ' b'W' b'o' b'r' b'l' b'd']\n"
          ]
        }
      ]
    },
    {
      "cell_type": "markdown",
      "source": [
        "* இங்கு, buffer (மின்னணு data) Numpy array-ஆக மாற்றப்படுகிறது."
      ],
      "metadata": {
        "id": "3Bjkz5xm_US1"
      }
    },
    {
      "cell_type": "markdown",
      "source": [
        "#### 3.3. numpy.fromiter\n",
        "\n",
        "**fromiter( )** method iterable object-களை array-ஆக மாற்றி அமைக்க உதவுகிறது."
      ],
      "metadata": {
        "id": "Rlk9pXsJ_ZvN"
      }
    },
    {
      "cell_type": "code",
      "source": [
        "iterable = (x*x for x in range(5))\n",
        "array_iter = np.fromiter(iterable, dtype='int32')\n",
        "print(\"Array from iterable:\", array_iter)"
      ],
      "metadata": {
        "colab": {
          "base_uri": "https://localhost:8080/"
        },
        "id": "Y4HOkW0v_W2V",
        "outputId": "3192d695-8d70-4134-8a63-37492dd29b99"
      },
      "execution_count": 4,
      "outputs": [
        {
          "output_type": "stream",
          "name": "stdout",
          "text": [
            "Array from iterable: [ 0  1  4  9 16]\n"
          ]
        }
      ]
    },
    {
      "cell_type": "markdown",
      "source": [
        "* **fromiter( )** method iterator-ல் உள்ள data-ஐ array-ஆக மாற்றும்."
      ],
      "metadata": {
        "id": "VqIdWGUj_g16"
      }
    }
  ]
}