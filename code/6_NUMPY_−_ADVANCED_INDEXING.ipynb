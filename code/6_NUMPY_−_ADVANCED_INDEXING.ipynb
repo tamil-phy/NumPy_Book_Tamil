{
  "nbformat": 4,
  "nbformat_minor": 0,
  "metadata": {
    "colab": {
      "provenance": []
    },
    "kernelspec": {
      "name": "python3",
      "display_name": "Python 3"
    },
    "language_info": {
      "name": "python"
    }
  },
  "cells": [
    {
      "cell_type": "markdown",
      "source": [
        "Numpy-இல் **advanced indexing** முறைகள் மூலம் array values-ஐ எளிதாக அணுகவும் update செய்யவும் முடியும்.\n",
        "\n",
        "#### 6.1. Integer Indexing\n",
        "\n",
        "Integer indexing-ன் மூலம் array-யில் இருந்து specific elements-ஐ எளிதாக பெறலாம்."
      ],
      "metadata": {
        "id": "ZNeP0YITgCQC"
      }
    },
    {
      "cell_type": "code",
      "execution_count": 1,
      "metadata": {
        "id": "_ygohEaHfvdY"
      },
      "outputs": [],
      "source": [
        "import numpy as np"
      ]
    },
    {
      "cell_type": "code",
      "source": [
        "arr = np.array([[1, 2], [3, 4], [5, 6]])\n",
        "print(\"Element at position (2, 1):\", arr[2, 1])"
      ],
      "metadata": {
        "colab": {
          "base_uri": "https://localhost:8080/"
        },
        "id": "y7tk8jaUgIAG",
        "outputId": "0d2241df-6a67-4925-85d7-503fff8a24e2"
      },
      "execution_count": 2,
      "outputs": [
        {
          "output_type": "stream",
          "name": "stdout",
          "text": [
            "Element at position (2, 1): 6\n"
          ]
        }
      ]
    },
    {
      "cell_type": "markdown",
      "source": [
        "#### 6.2. Boolean Array Indexing\n",
        "\n",
        "Boolean array indexing-ன் மூலம் array values-ஐ condition அடிப்படையில் எளிதாக filter செய்யலாம்."
      ],
      "metadata": {
        "id": "RozFRLU8gPQB"
      }
    },
    {
      "cell_type": "code",
      "source": [
        "arr = np.array([10, 20, 30, 40, 50])\n",
        "condition = arr > 25\n",
        "print(\"Filtered array with condition:\", arr[condition])"
      ],
      "metadata": {
        "colab": {
          "base_uri": "https://localhost:8080/"
        },
        "id": "IoRld73KgP5w",
        "outputId": "a6720b64-5897-41d3-97ac-29683aa2e97e"
      },
      "execution_count": 3,
      "outputs": [
        {
          "output_type": "stream",
          "name": "stdout",
          "text": [
            "Filtered array with condition: [30 40 50]\n"
          ]
        }
      ]
    },
    {
      "cell_type": "markdown",
      "source": [
        "- **Integer indexing** மூலம் குறிப்பிட்ட இடத்தில் உள்ள values-ஐ எளிதாக பெறலாம்.\n",
        "- **Boolean indexing** மூலம் condition அடிப்படையில் array values-ஐ filter செய்யலாம்."
      ],
      "metadata": {
        "id": "CNI8mZ7GgZa2"
      }
    },
    {
      "cell_type": "markdown",
      "source": [
        "#### 6.3. numpy.fromiter\n",
        "\n",
        "Numpy-யில் **fromiter( )** function-ஐ பயன்படுத்தி, iterable object-களை Numpy array-ஆக மாற்ற முடியும். இது memory-யை சிக்கனமாகவும், நேரத்தை மிச்சப்படுத்தவும் உதவுகிறது."
      ],
      "metadata": {
        "id": "ck4maQWwgheR"
      }
    },
    {
      "cell_type": "code",
      "source": [
        "import numpy as np\n",
        "import time\n",
        "\n",
        "# Array அளவை நிர்ணயிக்கிறோம்\n",
        "iterable_size = 10**7  # வேகத்தைக் காண பெரிய அளவு\n",
        "\n",
        "# Python list comprehension பயன்படுத்திய நேரத்தை அளக்கிறோம்\n",
        "start_time_list = time.time()\n",
        "\n",
        "# List comprehension பயன்படுத்தி ஒரு list உருவாக்குகிறோம்\n",
        "list_result = [x * x for x in range(iterable_size)]\n",
        "\n",
        "# List comprehension முடிவடைந்த நேரம்\n",
        "end_time_list = time.time()\n",
        "list_time = end_time_list - start_time_list\n",
        "print(\"Time taken using list comprehension:\", list_time, \"seconds\")\n",
        "\n",
        "# Numpy-யின் vectorized operations பயன்படுத்திய நேரத்தை அளக்கிறோம்\n",
        "start_time_numpy = time.time()\n",
        "\n",
        "# np.arange() மற்றும் vectorized squaring operation பயன்படுத்தி சிறந்த செயல்திறன் பெறுகிறோம்\n",
        "array_result = np.arange(iterable_size, dtype='int64') ** 2\n",
        "\n",
        "# Numpy vectorized operations முடிவடைந்த நேரம்\n",
        "end_time_numpy = time.time()\n",
        "numpy_time = end_time_numpy - start_time_numpy\n",
        "print(\"Time taken using Numpy vectorized operation:\", numpy_time, \"seconds\")\n",
        "\n",
        "# செயல்திறனை ஒப்பிடுகிறோம்\n",
        "performance_improvement = list_time / numpy_time\n",
        "print(f\"Numpy vectorized operation is approximately {performance_improvement:.2f} times faster than list comprehension.\")\n"
      ],
      "metadata": {
        "colab": {
          "base_uri": "https://localhost:8080/"
        },
        "id": "pvrIKbbGgfEA",
        "outputId": "3f1a0c67-fe8b-4350-9396-765192f9833c"
      },
      "execution_count": 5,
      "outputs": [
        {
          "output_type": "stream",
          "name": "stdout",
          "text": [
            "Time taken using list comprehension: 1.87123441696167 seconds\n",
            "Time taken using Numpy vectorized operation: 0.263430118560791 seconds\n",
            "Numpy vectorized operation is approximately 7.10 times faster than list comprehension.\n"
          ]
        }
      ]
    },
    {
      "cell_type": "markdown",
      "source": [
        "- **Python List Comprehension**: ஒரு for loop பயன்படுத்தி values-ஐ list-ஆக சேமிக்கிறது. இது sequential-ஆக values-ஐ உருவாக்கி memory-யில் சேமிக்கிறது.\n",
        "- **Numpy's np.fromiter( )**: நாங்கள் iterable-ஐ நேரடியாக Numpy array-ஆக மாற்றுகிறோம். இதனால் parallel processing மற்றும் memory optimization-ஐ பயன்படுத்தி calculations வேகமாக செய்ய முடிகிறது.\n",
        "- **np.fromiter( )** iterable values-ஐ memory-efficient-ஆக dynamic-ஆக Numpy array-ஆக மாற்றும், lazy evaluation மற்றும் iterable flexibility-ஐ கொண்ட சிறந்த method ஆகும்."
      ],
      "metadata": {
        "id": "tFXJ3-4Sj0eu"
      }
    },
    {
      "cell_type": "code",
      "source": [],
      "metadata": {
        "id": "NXagA68gj1Bp"
      },
      "execution_count": null,
      "outputs": []
    }
  ]
}