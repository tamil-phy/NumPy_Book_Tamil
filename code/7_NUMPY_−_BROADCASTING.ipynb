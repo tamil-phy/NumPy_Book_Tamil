{
  "nbformat": 4,
  "nbformat_minor": 0,
  "metadata": {
    "colab": {
      "provenance": []
    },
    "kernelspec": {
      "name": "python3",
      "display_name": "Python 3"
    },
    "language_info": {
      "name": "python"
    }
  },
  "cells": [
    {
      "cell_type": "markdown",
      "source": [
        "Numpy-யில் **broadcasting** என்பது shape-கள் வேறுபட்ட array-களை arithmetic operations-ல் பயன்படுத்த ஒரு நுட்பமாகும். இது data-ஐ duplicate செய்யாமல் operations-ஐ நேரடியாக செய்ய உதவுகிறது."
      ],
      "metadata": {
        "id": "Upul00z8kLdL"
      }
    },
    {
      "cell_type": "code",
      "source": [
        "import numpy as np\n",
        "\n",
        "# Broadcasting உதாரணம்\n",
        "array1 = np.array([1, 2, 3])\n",
        "array2 = np.array([[1], [2], [3]])\n",
        "\n",
        "result = array1 + array2\n",
        "print(\"Broadcasted array:\\n\", result)"
      ],
      "metadata": {
        "colab": {
          "base_uri": "https://localhost:8080/"
        },
        "id": "CFOGWoywldFO",
        "outputId": "66896b1e-a40f-4147-d35c-cbd36855ae4c"
      },
      "execution_count": 5,
      "outputs": [
        {
          "output_type": "stream",
          "name": "stdout",
          "text": [
            "Broadcasted array:\n",
            " [[2 3 4]\n",
            " [3 4 5]\n",
            " [4 5 6]]\n"
          ]
        }
      ]
    },
    {
      "cell_type": "markdown",
      "source": [
        "* இங்கு, `array1` மற்றும் `array2`-இன் shape வேறுபட்டிருந்தாலும், broadcasting மூலம் arithmetic operation செய்ய முடிகிறது."
      ],
      "metadata": {
        "id": "Qtyoz-ZRll88"
      }
    },
    {
      "cell_type": "code",
      "source": [],
      "metadata": {
        "id": "7QTNcIeIlnHs"
      },
      "execution_count": null,
      "outputs": []
    }
  ]
}