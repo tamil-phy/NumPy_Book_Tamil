{
  "nbformat": 4,
  "nbformat_minor": 0,
  "metadata": {
    "colab": {
      "provenance": []
    },
    "kernelspec": {
      "name": "python3",
      "display_name": "Python 3"
    },
    "language_info": {
      "name": "python"
    }
  },
  "cells": [
    {
      "cell_type": "markdown",
      "source": [
        "Numpy array-களில் **indexing** மற்றும் **slicing** methods மிக முக்கியமானவை. இதன் மூலம், array-களில் குறிப்பிட்ட இடத்தை (element) எளிதாக அணுகலாம்."
      ],
      "metadata": {
        "id": "Wu0i91vjBxiJ"
      }
    },
    {
      "cell_type": "code",
      "source": [
        "import numpy as np"
      ],
      "metadata": {
        "id": "mQGPOFq2B5ZF"
      },
      "execution_count": 2,
      "outputs": []
    },
    {
      "cell_type": "code",
      "execution_count": 3,
      "metadata": {
        "colab": {
          "base_uri": "https://localhost:8080/"
        },
        "id": "es77ZazEBunj",
        "outputId": "85d49214-9fd6-4678-bbe3-da91f2a16c00"
      },
      "outputs": [
        {
          "output_type": "stream",
          "name": "stdout",
          "text": [
            "Element at index 2: 30\n",
            "Sliced array: [20 30 40]\n"
          ]
        }
      ],
      "source": [
        "arr = np.array([10, 20, 30, 40, 50])\n",
        "print(\"Element at index 2:\", arr[2])  # Indexing\n",
        "print(\"Sliced array:\", arr[1:4])  # Slicing"
      ]
    },
    {
      "cell_type": "markdown",
      "source": [
        "- Indexing-ல் குறிப்பிட்ட இடத்தில் உள்ள element-ஐ அணுகலாம்.\n",
        "- Slicing-ன் மூலம் array-ல் குறிப்பிட்ட பகுதியில் உள்ள values-ஐ எளிதாக பிரிக்கலாம்."
      ],
      "metadata": {
        "id": "2t-B3XVqCQgT"
      }
    }
  ]
}