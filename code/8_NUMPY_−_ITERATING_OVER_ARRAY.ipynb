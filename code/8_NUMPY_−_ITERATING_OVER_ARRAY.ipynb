{
  "nbformat": 4,
  "nbformat_minor": 0,
  "metadata": {
    "colab": {
      "provenance": []
    },
    "kernelspec": {
      "name": "python3",
      "display_name": "Python 3"
    },
    "language_info": {
      "name": "python"
    }
  },
  "cells": [
    {
      "cell_type": "markdown",
      "source": [
        "Numpy array-களை **iterate** செய்வது Python list-களை iterate செய்வதைப் போலவே எளிதானது. ஆனால், இதற்கான நுட்பங்கள் அதிக துல்லியமாகவும் வேகமாகவும் செயல்படுவதற்காக வடிவமைக்கப்பட்டுள்ளது.\n",
        "\n",
        "#### 8.1. Iteration Order\n",
        "\n",
        "Numpy array-களை iterate செய்வதில் **row-major** அல்லது **column-major** order-ல் iteration செய்ய முடியும்."
      ],
      "metadata": {
        "id": "13r2TnQJl2V2"
      }
    },
    {
      "cell_type": "code",
      "execution_count": 2,
      "metadata": {
        "colab": {
          "base_uri": "https://localhost:8080/"
        },
        "id": "YpAMuWG6lzIr",
        "outputId": "6b13832a-35c3-4fa1-dd97-6c28a3dcd515"
      },
      "outputs": [
        {
          "output_type": "stream",
          "name": "stdout",
          "text": [
            "Row: [1 2 3]\n",
            "Row: [4 5 6]\n",
            "Element: 1\n",
            "Element: 2\n",
            "Element: 3\n",
            "Element: 4\n",
            "Element: 5\n",
            "Element: 6\n"
          ]
        }
      ],
      "source": [
        "import numpy as np\n",
        "\n",
        "array = np.array([[1, 2, 3], [4, 5, 6]])\n",
        "for row in array:\n",
        "    print(\"Row:\", row)\n",
        "\n",
        "\n",
        "for element in array.flat:\n",
        "    print(\"Element:\", element)"
      ]
    },
    {
      "cell_type": "markdown",
      "source": [
        "- **Row-major** order-ல், ஒவ்வொரு row-யும் தனித்தனியாக iterate செய்யப்படுகிறது.\n",
        "- **flat** attribute-ஐ பயன்படுத்தி, array-இல் உள்ள அனைத்து elements-யையும் column-major order-ல் iterate செய்யலாம்."
      ],
      "metadata": {
        "id": "iJwFkXvNmDU-"
      }
    },
    {
      "cell_type": "markdown",
      "source": [
        "#### 8.2. Modifying Array Values\n",
        "\n",
        "Iteration மூலம் array values-ஐ மாற்றலாம்."
      ],
      "metadata": {
        "id": "SuTr01Z4mKjd"
      }
    },
    {
      "cell_type": "code",
      "source": [
        "# Array values-ஐ iterate செய்து மாற்றுதல்\n",
        "for i in np.nditer(array, op_flags=['readwrite']):\n",
        "    i[...] = i * 2\n",
        "print(\"Modified array:\\n\", array)"
      ],
      "metadata": {
        "colab": {
          "base_uri": "https://localhost:8080/"
        },
        "id": "pv7xm88Al6GO",
        "outputId": "82db3be9-c322-4692-84aa-8d8019e6dc72"
      },
      "execution_count": 3,
      "outputs": [
        {
          "output_type": "stream",
          "name": "stdout",
          "text": [
            "Modified array:\n",
            " [[ 2  4  6]\n",
            " [ 8 10 12]]\n"
          ]
        }
      ]
    },
    {
      "cell_type": "markdown",
      "source": [
        "\n",
        "* **`np.nditer()`**:\n",
        "   - **`np.nditer()`** Numpy array-ஐ iterate (சுழற்சி) செய்ய ஒரு iterator object-ஐ உருவாக்கும்.\n",
        "   - இது multi-dimensional arrays-ஐ எளிமையாக iterate செய்ய உதவுகிறது.\n",
        "\n",
        "* **`op_flags=['readwrite']`**:\n",
        "   - **`op_flags`** என்பதன் மூலம் iteration செய்யும் போது array-ஐ எப்படி access செய்ய வேண்டும் என்று குறிப்பிடுகிறோம்.\n",
        "   - **`readwrite`** என்ற flag-ஐ பயன்படுத்தியதால், iteration செய்யும் போது array values-ஐ both (மேம்படுத்தவும் மற்றும் படிக்கவும்) access செய்ய முடியும்.\n",
        "\n",
        "* **`i[...] = i * 2`**:\n",
        "   - **`i[...]`** மூலம், iterator (i) மூலம் pointing செய்யப்படும் array-இன் தற்போதைய element-ஐ access செய்கிறோம்.\n",
        "   - இங்கு, ஒவ்வொரு element-ஐ இரட்டிப்பு (double) செய்து, அதை array-இல் replace செய்கிறோம் (original array-யின் values-ஐ update செய்கிறோம்).\n",
        "\n",
        "\n",
        "\n"
      ],
      "metadata": {
        "id": "uDuPRpD0mkz8"
      }
    },
    {
      "cell_type": "markdown",
      "source": [
        "#### 8.3. External Loop\n",
        "\n",
        "**External Loop** iteration நுட்பம் array values-ஐ மேம்படுத்தி செயல்படுத்த உதவுகிறது."
      ],
      "metadata": {
        "id": "otTxAORUnIPn"
      }
    },
    {
      "cell_type": "code",
      "source": [
        "# External loop iteration\n",
        "for x in np.nditer(array, flags=['external_loop'], order='F'):\n",
        "    print(\"External loop iteration:\", x)"
      ],
      "metadata": {
        "colab": {
          "base_uri": "https://localhost:8080/"
        },
        "id": "HKibt5pUmR-a",
        "outputId": "baf23659-9b87-4041-ea11-593ecc68cc00"
      },
      "execution_count": 4,
      "outputs": [
        {
          "output_type": "stream",
          "name": "stdout",
          "text": [
            "External loop iteration: [2 8]\n",
            "External loop iteration: [ 4 10]\n",
            "External loop iteration: [ 6 12]\n"
          ]
        }
      ]
    },
    {
      "cell_type": "markdown",
      "source": [
        "#### 8.4. Broadcasting Iteration\n",
        "\n",
        "Broadcasting iteration மூலம் எந்த shape-ல் இருந்தாலும் array values-ஐ iterate செய்ய உதவுகிறது."
      ],
      "metadata": {
        "id": "rmK2NgLLnQss"
      }
    },
    {
      "cell_type": "code",
      "source": [
        "array1 = np.array([1, 2, 3])\n",
        "array2 = np.array([[1], [2], [3]])\n",
        "for x, y in np.nditer([array1, array2]):\n",
        "    print(f\"x: {x}, y: {y}\")"
      ],
      "metadata": {
        "colab": {
          "base_uri": "https://localhost:8080/"
        },
        "id": "z8VAZ1PAnRXp",
        "outputId": "1e79d4e8-3beb-4a4f-94f7-bed7162ee1b7"
      },
      "execution_count": 5,
      "outputs": [
        {
          "output_type": "stream",
          "name": "stdout",
          "text": [
            "x: 1, y: 1\n",
            "x: 2, y: 1\n",
            "x: 3, y: 1\n",
            "x: 1, y: 2\n",
            "x: 2, y: 2\n",
            "x: 3, y: 2\n",
            "x: 1, y: 3\n",
            "x: 2, y: 3\n",
            "x: 3, y: 3\n"
          ]
        }
      ]
    }
  ]
}