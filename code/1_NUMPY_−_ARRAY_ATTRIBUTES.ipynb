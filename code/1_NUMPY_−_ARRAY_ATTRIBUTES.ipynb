{
  "nbformat": 4,
  "nbformat_minor": 0,
  "metadata": {
    "colab": {
      "provenance": []
    },
    "kernelspec": {
      "name": "python3",
      "display_name": "Python 3"
    },
    "language_info": {
      "name": "python"
    }
  },
  "cells": [
    {
      "cell_type": "markdown",
      "source": [
        "### 1. NUMPY − ARRAY ATTRIBUTES\n",
        "\n",
        "#### 1.1. ndarray.shape\n",
        "\n",
        "**shape** attribute என்பது Numpy array-இன் அமைப்பை (structure) குறிக்கிறது. இது array-இல் எத்தனை rows மற்றும் columns உள்ளன என்பதை சொல்கிறது."
      ],
      "metadata": {
        "id": "eAMyL85VyFZ2"
      }
    },
    {
      "cell_type": "code",
      "source": [
        "import numpy as np"
      ],
      "metadata": {
        "id": "l8jV9ckRyRSQ"
      },
      "execution_count": 2,
      "outputs": []
    },
    {
      "cell_type": "code",
      "source": [
        "arr = np.array([[1, 2, 3], [4, 5, 6]])\n",
        "print(\"Shape of array:\", arr.shape)"
      ],
      "metadata": {
        "colab": {
          "base_uri": "https://localhost:8080/"
        },
        "id": "rndRyoVWyNb0",
        "outputId": "eeb05a97-9cf3-4f2d-c9e4-3cc19abdb60a"
      },
      "execution_count": 3,
      "outputs": [
        {
          "output_type": "stream",
          "name": "stdout",
          "text": [
            "Shape of array: (2, 3)\n"
          ]
        }
      ]
    },
    {
      "cell_type": "markdown",
      "source": [
        "#### 1.2. ndarray.ndim\n",
        "\n",
        "**ndim** என்பது array-இன் பரிமாணங்களின் எண்ணிக்கையை (number of dimensions) குறிக்கிறது."
      ],
      "metadata": {
        "id": "NDfpvLL4znvu"
      }
    },
    {
      "cell_type": "code",
      "source": [
        "print(\"Number of dimensions:\", arr.ndim)"
      ],
      "metadata": {
        "colab": {
          "base_uri": "https://localhost:8080/"
        },
        "id": "9HPOM7aQzqqU",
        "outputId": "86b63785-8c74-4096-e4fd-8352d38c4c53"
      },
      "execution_count": 4,
      "outputs": [
        {
          "output_type": "stream",
          "name": "stdout",
          "text": [
            "Number of dimensions: 2\n"
          ]
        }
      ]
    },
    {
      "cell_type": "markdown",
      "source": [
        "#### 1.3. numpy.itemsize\n",
        "\n",
        "**itemsize** attribute ஒரு element-ஐ represent செய்ய memory-யில் எத்தனை bytes எடுக்கின்றது என்பதை அளிக்கிறது."
      ],
      "metadata": {
        "id": "w0vVvuASz1qU"
      }
    },
    {
      "cell_type": "code",
      "source": [
        "print(\"Item size of array:\", arr.itemsize, \"bytes\")"
      ],
      "metadata": {
        "colab": {
          "base_uri": "https://localhost:8080/"
        },
        "id": "MQhnFWJbz2Pn",
        "outputId": "146fcf69-9c9f-4dc4-be1b-367f1dbd95b7"
      },
      "execution_count": 5,
      "outputs": [
        {
          "output_type": "stream",
          "name": "stdout",
          "text": [
            "Item size of array: 8 bytes\n"
          ]
        }
      ]
    },
    {
      "cell_type": "markdown",
      "source": [
        "#### 1.4. numpy.flags\n",
        "\n",
        "**flags** attribute array-இன் memory layout-ஐ குறிக்கும்."
      ],
      "metadata": {
        "id": "Xzs0JY7o0Ahp"
      }
    },
    {
      "cell_type": "code",
      "source": [
        "print(\"Flags of the array:\\n\", arr.flags)"
      ],
      "metadata": {
        "colab": {
          "base_uri": "https://localhost:8080/"
        },
        "id": "MnVX-qWX0BKK",
        "outputId": "cd572aa9-a895-4257-85ff-d5d3e855e7d8"
      },
      "execution_count": 6,
      "outputs": [
        {
          "output_type": "stream",
          "name": "stdout",
          "text": [
            "Flags of the array:\n",
            "   C_CONTIGUOUS : True\n",
            "  F_CONTIGUOUS : False\n",
            "  OWNDATA : True\n",
            "  WRITEABLE : True\n",
            "  ALIGNED : True\n",
            "  WRITEBACKIFCOPY : False\n",
            "\n"
          ]
        }
      ]
    },
    {
      "cell_type": "code",
      "source": [],
      "metadata": {
        "id": "NNIvWZ9f0EVW"
      },
      "execution_count": null,
      "outputs": []
    }
  ]
}